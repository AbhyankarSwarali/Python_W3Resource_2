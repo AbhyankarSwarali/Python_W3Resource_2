{
 "cells": [
  {
   "cell_type": "code",
   "execution_count": 1,
   "id": "97a0521d-7227-45e0-9c20-807279035a7d",
   "metadata": {},
   "outputs": [
    {
     "name": "stdout",
     "output_type": "stream",
     "text": [
      "Value of x is'30'\n"
     ]
    }
   ],
   "source": [
    "x = 30\n",
    "print(\"Value of x is'{}'\".format(x))"
   ]
  }
 ],
 "metadata": {
  "kernelspec": {
   "display_name": "Python [conda env:base] *",
   "language": "python",
   "name": "conda-base-py"
  },
  "language_info": {
   "codemirror_mode": {
    "name": "ipython",
    "version": 3
   },
   "file_extension": ".py",
   "mimetype": "text/x-python",
   "name": "python",
   "nbconvert_exporter": "python",
   "pygments_lexer": "ipython3",
   "version": "3.12.7"
  }
 },
 "nbformat": 4,
 "nbformat_minor": 5
}
