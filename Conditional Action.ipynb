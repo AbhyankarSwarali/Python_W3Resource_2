{
 "cells": [
  {
   "cell_type": "code",
   "execution_count": 2,
   "id": "81c82cf9-d814-46e2-af41-72ecb4e1589b",
   "metadata": {},
   "outputs": [
    {
     "name": "stdin",
     "output_type": "stream",
     "text": [
      " 1\n"
     ]
    },
    {
     "name": "stdout",
     "output_type": "stream",
     "text": [
      "First day of a month!\n"
     ]
    }
   ],
   "source": [
    "n = int(input())\n",
    "if n== 1: \n",
    "    print(\"First day of a month!\")"
   ]
  }
 ],
 "metadata": {
  "kernelspec": {
   "display_name": "Python [conda env:base] *",
   "language": "python",
   "name": "conda-base-py"
  },
  "language_info": {
   "codemirror_mode": {
    "name": "ipython",
    "version": 3
   },
   "file_extension": ".py",
   "mimetype": "text/x-python",
   "name": "python",
   "nbconvert_exporter": "python",
   "pygments_lexer": "ipython3",
   "version": "3.12.7"
  }
 },
 "nbformat": 4,
 "nbformat_minor": 5
}
