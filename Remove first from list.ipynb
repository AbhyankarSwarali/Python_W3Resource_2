{
 "cells": [
  {
   "cell_type": "code",
   "execution_count": 3,
   "id": "e7d488c2-fe4a-4857-a861-88485eff6869",
   "metadata": {},
   "outputs": [
    {
     "name": "stdout",
     "output_type": "stream",
     "text": [
      "First item removed is Red\n",
      "New list: ['Black', 'Green', 'White', 'Orange']\n"
     ]
    }
   ],
   "source": [
    "color = [\"Red\", \"Black\", \"Green\", \"White\", \"Orange\"]\n",
    "first = color[0]\n",
    "color.remove(first)\n",
    "print(\"First item removed is\", first)\n",
    "print(\"New list:\", color)"
   ]
  }
 ],
 "metadata": {
  "kernelspec": {
   "display_name": "Python [conda env:base] *",
   "language": "python",
   "name": "conda-base-py"
  },
  "language_info": {
   "codemirror_mode": {
    "name": "ipython",
    "version": 3
   },
   "file_extension": ".py",
   "mimetype": "text/x-python",
   "name": "python",
   "nbconvert_exporter": "python",
   "pygments_lexer": "ipython3",
   "version": "3.12.7"
  }
 },
 "nbformat": 4,
 "nbformat_minor": 5
}
