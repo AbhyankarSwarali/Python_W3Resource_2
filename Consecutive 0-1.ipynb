{
 "cells": [
  {
   "cell_type": "code",
   "execution_count": 3,
   "id": "a81a7bb9-ec8f-4064-bd6e-d0b27ff6885d",
   "metadata": {},
   "outputs": [
    {
     "name": "stdout",
     "output_type": "stream",
     "text": [
      "True\n",
      "False\n",
      "True\n"
     ]
    }
   ],
   "source": [
    "def zero_one(s): \n",
    "    while '01' in s:\n",
    "        s = s.replace('01','')\n",
    "    return len(s) == 0\n",
    "s1 = '0101010101'\n",
    "s2 = '0000'\n",
    "s3 = '000111000111'\n",
    "print(zero_one(s1))\n",
    "print(zero_one(s2))\n",
    "print(zero_one(s3))"
   ]
  }
 ],
 "metadata": {
  "kernelspec": {
   "display_name": "Python [conda env:base] *",
   "language": "python",
   "name": "conda-base-py"
  },
  "language_info": {
   "codemirror_mode": {
    "name": "ipython",
    "version": 3
   },
   "file_extension": ".py",
   "mimetype": "text/x-python",
   "name": "python",
   "nbconvert_exporter": "python",
   "pygments_lexer": "ipython3",
   "version": "3.12.7"
  }
 },
 "nbformat": 4,
 "nbformat_minor": 5
}
