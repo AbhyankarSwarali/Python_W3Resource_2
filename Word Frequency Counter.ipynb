{
 "cells": [
  {
   "cell_type": "code",
   "execution_count": 6,
   "id": "9e833a3a-a8b7-4b61-843f-75aa486b9cca",
   "metadata": {},
   "outputs": [
    {
     "name": "stdin",
     "output_type": "stream",
     "text": [
      "Enter a string: Document Database is a type of database that is designed to store and retrieve documents, which are typically represented in a format such as JSON (JavaScript Object Notation). These databases are designed to be flexible, allowing for the storage of a wide variety of datatypes, including text, numbers, images etc.\n"
     ]
    },
    {
     "name": "stdout",
     "output_type": "stream",
     "text": [
      "[('Document', 1), ('Database', 1), ('is', 2), ('a', 3), ('type', 1), ('of', 3), ('database', 1), ('that', 1), ('is', 2), ('designed', 2), ('to', 2), ('store', 1), ('and', 1), ('retrieve', 1), ('documents,', 1), ('which', 1), ('are', 2), ('typically', 1), ('represented', 1), ('in', 1), ('a', 3), ('format', 1), ('such', 1), ('as', 1), ('JSON', 1), ('(JavaScript', 1), ('Object', 1), ('Notation).', 1), ('These', 1), ('databases', 1), ('are', 2), ('designed', 2), ('to', 2), ('be', 1), ('flexible,', 1), ('allowing', 1), ('for', 1), ('the', 1), ('storage', 1), ('of', 3), ('a', 3), ('wide', 1), ('variety', 1), ('of', 3), ('datatypes,', 1), ('including', 1), ('text,', 1), ('numbers,', 1), ('images', 1), ('etc.', 1)]\n"
     ]
    }
   ],
   "source": [
    "s = input(\"Enter a string:\")\n",
    "new_str = s.split()\n",
    "freq = [new_str.count(x) for x in new_str]\n",
    "print('{}'.format(str(list(zip(new_str, freq)))))"
   ]
  }
 ],
 "metadata": {
  "kernelspec": {
   "display_name": "Python [conda env:base] *",
   "language": "python",
   "name": "conda-base-py"
  },
  "language_info": {
   "codemirror_mode": {
    "name": "ipython",
    "version": 3
   },
   "file_extension": ".py",
   "mimetype": "text/x-python",
   "name": "python",
   "nbconvert_exporter": "python",
   "pygments_lexer": "ipython3",
   "version": "3.12.7"
  }
 },
 "nbformat": 4,
 "nbformat_minor": 5
}
