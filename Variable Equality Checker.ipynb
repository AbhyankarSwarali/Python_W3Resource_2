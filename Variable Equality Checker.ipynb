{
 "cells": [
  {
   "cell_type": "code",
   "execution_count": 3,
   "id": "bd574675-474d-4789-ac30-0bc8303b64b6",
   "metadata": {},
   "outputs": [
    {
     "name": "stdin",
     "output_type": "stream",
     "text": [
      "Enter x: 2\n",
      "Enter y: 3\n",
      "Enter z: 3\n"
     ]
    },
    {
     "name": "stdout",
     "output_type": "stream",
     "text": [
      "Different variable values\n"
     ]
    }
   ],
   "source": [
    "x, y, z = int(input(\"Enter x:\")), int(input(\"Enter y:\")), int(input(\"Enter z:\"))\n",
    "if x == y == z: \n",
    "    print(\"All variables have equal value\")\n",
    "else: \n",
    "    print(\"Different variable values\")"
   ]
  }
 ],
 "metadata": {
  "kernelspec": {
   "display_name": "Python [conda env:base] *",
   "language": "python",
   "name": "conda-base-py"
  },
  "language_info": {
   "codemirror_mode": {
    "name": "ipython",
    "version": 3
   },
   "file_extension": ".py",
   "mimetype": "text/x-python",
   "name": "python",
   "nbconvert_exporter": "python",
   "pygments_lexer": "ipython3",
   "version": "3.12.7"
  }
 },
 "nbformat": 4,
 "nbformat_minor": 5
}
