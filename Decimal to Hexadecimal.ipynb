{
 "cells": [
  {
   "cell_type": "code",
   "execution_count": 4,
   "id": "71e0b695-900e-47c8-987b-753d9c3586e5",
   "metadata": {},
   "outputs": [
    {
     "name": "stdout",
     "output_type": "stream",
     "text": [
      "30 in hexadecimal is: 1e\n",
      "4 in hexadecimal is: 04\n"
     ]
    }
   ],
   "source": [
    "x, y = 30, 4\n",
    "print('30 in hexadecimal is:', format(x, '02x'))\n",
    "print('4 in hexadecimal is:', format(y, '02x'))"
   ]
  }
 ],
 "metadata": {
  "kernelspec": {
   "display_name": "Python [conda env:base] *",
   "language": "python",
   "name": "conda-base-py"
  },
  "language_info": {
   "codemirror_mode": {
    "name": "ipython",
    "version": 3
   },
   "file_extension": ".py",
   "mimetype": "text/x-python",
   "name": "python",
   "nbconvert_exporter": "python",
   "pygments_lexer": "ipython3",
   "version": "3.12.7"
  }
 },
 "nbformat": 4,
 "nbformat_minor": 5
}
