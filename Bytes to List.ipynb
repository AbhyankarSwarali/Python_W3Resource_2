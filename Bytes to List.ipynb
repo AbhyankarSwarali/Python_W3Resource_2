{
 "cells": [
  {
   "cell_type": "code",
   "execution_count": 1,
   "id": "8aeec878-1c5a-4cd2-a11a-799ecd62ac6d",
   "metadata": {},
   "outputs": [
    {
     "name": "stdout",
     "output_type": "stream",
     "text": [
      "[80, 121, 116, 104, 111, 110, 32, 105, 115, 32, 101, 97, 115, 121]\n"
     ]
    }
   ],
   "source": [
    "s = b'Python is easy'\n",
    "print(list(s))"
   ]
  }
 ],
 "metadata": {
  "kernelspec": {
   "display_name": "Python [conda env:base] *",
   "language": "python",
   "name": "conda-base-py"
  },
  "language_info": {
   "codemirror_mode": {
    "name": "ipython",
    "version": 3
   },
   "file_extension": ".py",
   "mimetype": "text/x-python",
   "name": "python",
   "nbconvert_exporter": "python",
   "pygments_lexer": "ipython3",
   "version": "3.12.7"
  }
 },
 "nbformat": 4,
 "nbformat_minor": 5
}
