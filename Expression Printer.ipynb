{
 "cells": [
  {
   "cell_type": "code",
   "execution_count": 3,
   "id": "d32cfcf3-8ac4-4c8d-954e-ad25f8b867ef",
   "metadata": {},
   "outputs": [
    {
     "name": "stdout",
     "output_type": "stream",
     "text": [
      "30 + 20 = 50\n",
      "30 - 20 = 10\n",
      "30 * 20 = 600\n",
      "30 / 20 = 1.5\n"
     ]
    }
   ],
   "source": [
    "x, y = 30, 20\n",
    "print('%s + %s = %s' % (x, y, x+y))\n",
    "print('%s - %s = %s' % (x, y, x-y))\n",
    "print('%s * %s = %s' % (x, y, x*y))\n",
    "print('%s / %s = %s' % (x, y, x/y))"
   ]
  }
 ],
 "metadata": {
  "kernelspec": {
   "display_name": "Python [conda env:base] *",
   "language": "python",
   "name": "conda-base-py"
  },
  "language_info": {
   "codemirror_mode": {
    "name": "ipython",
    "version": 3
   },
   "file_extension": ".py",
   "mimetype": "text/x-python",
   "name": "python",
   "nbconvert_exporter": "python",
   "pygments_lexer": "ipython3",
   "version": "3.12.7"
  }
 },
 "nbformat": 4,
 "nbformat_minor": 5
}
