{
 "cells": [
  {
   "cell_type": "code",
   "execution_count": 1,
   "id": "1536778c-4650-48e3-86a5-fa17b4ae0c57",
   "metadata": {},
   "outputs": [
    {
     "name": "stdout",
     "output_type": "stream",
     "text": [
      "Colors: Red-Black-White\n"
     ]
    }
   ],
   "source": [
    "colors = ['Red', 'Black', 'White']\n",
    "all_colors = '-'.join(colors)\n",
    "print('Colors:', all_colors)"
   ]
  }
 ],
 "metadata": {
  "kernelspec": {
   "display_name": "Python [conda env:base] *",
   "language": "python",
   "name": "conda-base-py"
  },
  "language_info": {
   "codemirror_mode": {
    "name": "ipython",
    "version": 3
   },
   "file_extension": ".py",
   "mimetype": "text/x-python",
   "name": "python",
   "nbconvert_exporter": "python",
   "pygments_lexer": "ipython3",
   "version": "3.12.7"
  }
 },
 "nbformat": 4,
 "nbformat_minor": 5
}
