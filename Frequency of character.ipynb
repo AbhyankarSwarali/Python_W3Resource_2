{
 "cells": [
  {
   "cell_type": "code",
   "execution_count": 1,
   "id": "149894f2-e112-466e-bbf3-a04925698ce6",
   "metadata": {},
   "outputs": [
    {
     "name": "stdin",
     "output_type": "stream",
     "text": [
      "Enter character to count: s\n"
     ]
    },
    {
     "name": "stdout",
     "output_type": "stream",
     "text": [
      "4\n"
     ]
    }
   ],
   "source": [
    "s = 'If you want to shine like a sun first burn like a sun'\n",
    "char = input(\"Enter character to count:\")\n",
    "print(s.count(char))"
   ]
  }
 ],
 "metadata": {
  "kernelspec": {
   "display_name": "Python [conda env:base] *",
   "language": "python",
   "name": "conda-base-py"
  },
  "language_info": {
   "codemirror_mode": {
    "name": "ipython",
    "version": 3
   },
   "file_extension": ".py",
   "mimetype": "text/x-python",
   "name": "python",
   "nbconvert_exporter": "python",
   "pygments_lexer": "ipython3",
   "version": "3.12.7"
  }
 },
 "nbformat": 4,
 "nbformat_minor": 5
}
