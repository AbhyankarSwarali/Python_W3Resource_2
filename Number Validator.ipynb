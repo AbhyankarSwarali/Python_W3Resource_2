{
 "cells": [
  {
   "cell_type": "code",
   "execution_count": 2,
   "id": "180fe685-a9a3-46c5-b260-25edd4725ccc",
   "metadata": {},
   "outputs": [
    {
     "name": "stdin",
     "output_type": "stream",
     "text": [
      " e\n"
     ]
    },
    {
     "name": "stdout",
     "output_type": "stream",
     "text": [
      "It is not a number\n"
     ]
    },
    {
     "name": "stdin",
     "output_type": "stream",
     "text": [
      " 3\n"
     ]
    },
    {
     "name": "stdout",
     "output_type": "stream",
     "text": [
      "It is a number\n"
     ]
    }
   ],
   "source": [
    "while True: \n",
    "    try: \n",
    "        n = int(input())\n",
    "        print(\"It is a number\")\n",
    "        break\n",
    "    except ValueError: \n",
    "        print(\"It is not a number\")"
   ]
  }
 ],
 "metadata": {
  "kernelspec": {
   "display_name": "Python [conda env:base] *",
   "language": "python",
   "name": "conda-base-py"
  },
  "language_info": {
   "codemirror_mode": {
    "name": "ipython",
    "version": 3
   },
   "file_extension": ".py",
   "mimetype": "text/x-python",
   "name": "python",
   "nbconvert_exporter": "python",
   "pygments_lexer": "ipython3",
   "version": "3.12.7"
  }
 },
 "nbformat": 4,
 "nbformat_minor": 5
}
