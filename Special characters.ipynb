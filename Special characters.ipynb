{
 "cells": [
  {
   "cell_type": "code",
   "execution_count": 6,
   "id": "23614e2e-5a76-4f09-9807-db41f04c5ed6",
   "metadata": {},
   "outputs": [
    {
     "name": "stdout",
     "output_type": "stream",
     "text": [
      "!@#$&*()[]\n"
     ]
    }
   ],
   "source": [
    "string = 'Abc#$5de!@&*(123[45]),hii.'\n",
    "sp = \"!@#$%^&*()_+-[]{}=\"\n",
    "sp_char = ''\n",
    "for i in sp:\n",
    "    if i in string: \n",
    "        sp_char += i\n",
    "print(sp_char)"
   ]
  }
 ],
 "metadata": {
  "kernelspec": {
   "display_name": "Python [conda env:base] *",
   "language": "python",
   "name": "conda-base-py"
  },
  "language_info": {
   "codemirror_mode": {
    "name": "ipython",
    "version": 3
   },
   "file_extension": ".py",
   "mimetype": "text/x-python",
   "name": "python",
   "nbconvert_exporter": "python",
   "pygments_lexer": "ipython3",
   "version": "3.12.7"
  }
 },
 "nbformat": 4,
 "nbformat_minor": 5
}
