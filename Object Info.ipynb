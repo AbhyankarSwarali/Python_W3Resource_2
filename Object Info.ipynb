{
 "cells": [
  {
   "cell_type": "code",
   "execution_count": 1,
   "id": "a6d2646d-a848-4848-878c-c6520f50de5d",
   "metadata": {},
   "outputs": [
    {
     "name": "stdout",
     "output_type": "stream",
     "text": [
      "Identity: Hello, World\n",
      "Type: <class 'str'>\n",
      "Value: 2926298616688\n"
     ]
    }
   ],
   "source": [
    "x = 'Hello, World'\n",
    "print('Identity:', x)\n",
    "print(\"Type:\", type(x))\n",
    "print(\"Value:\", id(x))"
   ]
  }
 ],
 "metadata": {
  "kernelspec": {
   "display_name": "Python [conda env:base] *",
   "language": "python",
   "name": "conda-base-py"
  },
  "language_info": {
   "codemirror_mode": {
    "name": "ipython",
    "version": 3
   },
   "file_extension": ".py",
   "mimetype": "text/x-python",
   "name": "python",
   "nbconvert_exporter": "python",
   "pygments_lexer": "ipython3",
   "version": "3.12.7"
  }
 },
 "nbformat": 4,
 "nbformat_minor": 5
}
